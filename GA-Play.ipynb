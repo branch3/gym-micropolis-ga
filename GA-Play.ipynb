{
 "cells": [
  {
   "cell_type": "code",
   "execution_count": 10,
   "metadata": {
    "ExecuteTime": {
     "end_time": "2019-04-19T03:44:23.471250Z",
     "start_time": "2019-04-19T03:44:23.339623Z"
    }
   },
   "outputs": [],
   "source": [
    "!cd /home/branche/ML_TERM/gym-micropolis-ga/"
   ]
  },
  {
   "cell_type": "code",
   "execution_count": 12,
   "metadata": {
    "ExecuteTime": {
     "end_time": "2019-04-19T03:45:29.665102Z",
     "start_time": "2019-04-19T03:45:29.519123Z"
    }
   },
   "outputs": [
    {
     "name": "stdout",
     "output_type": "stream",
     "text": [
      "/home/branche/ML_TERM/gym-micropolis-ga/micropolis/MicropolisCore/src\r\n"
     ]
    }
   ],
   "source": [
    "!pwd"
   ]
  },
  {
   "cell_type": "code",
   "execution_count": 1,
   "metadata": {
    "ExecuteTime": {
     "end_time": "2019-04-19T01:35:55.299548Z",
     "start_time": "2019-04-19T01:35:54.789565Z"
    }
   },
   "outputs": [],
   "source": [
    "from MicropolisControlScript import Quimby\n",
    "import numpy as np\n",
    "import pickle\n",
    "import matplotlib.pyplot as plt\n",
    "from gym_micropolis.envs.corecontrol import MicropolisControl\n",
    "# from gym_micropolis.envs.tilemap import TileMap,zoneFromInt_A "
   ]
  },
  {
   "cell_type": "markdown",
   "metadata": {},
   "source": [
    "## Load save file"
   ]
  },
  {
   "cell_type": "code",
   "execution_count": 3,
   "metadata": {
    "ExecuteTime": {
     "end_time": "2019-04-19T01:36:48.416530Z",
     "start_time": "2019-04-19T01:36:48.396772Z"
    }
   },
   "outputs": [
    {
     "ename": "FileNotFoundError",
     "evalue": "[Errno 2] No such file or directory: 'quimby.obj'",
     "output_type": "error",
     "traceback": [
      "\u001b[0;31m---------------------------------------------------------------------------\u001b[0m",
      "\u001b[0;31mFileNotFoundError\u001b[0m                         Traceback (most recent call last)",
      "\u001b[0;32m<ipython-input-3-416538b47c71>\u001b[0m in \u001b[0;36m<module>\u001b[0;34m\u001b[0m\n\u001b[0;32m----> 1\u001b[0;31m \u001b[0mq\u001b[0m \u001b[0;34m=\u001b[0m \u001b[0mpickle\u001b[0m\u001b[0;34m.\u001b[0m\u001b[0mload\u001b[0m\u001b[0;34m(\u001b[0m\u001b[0mopen\u001b[0m\u001b[0;34m(\u001b[0m\u001b[0;34m'quimby.obj'\u001b[0m\u001b[0;34m,\u001b[0m \u001b[0;34m'rb'\u001b[0m\u001b[0;34m)\u001b[0m\u001b[0;34m)\u001b[0m\u001b[0;34m\u001b[0m\u001b[0;34m\u001b[0m\u001b[0m\n\u001b[0m",
      "\u001b[0;31mFileNotFoundError\u001b[0m: [Errno 2] No such file or directory: 'quimby.obj'"
     ]
    }
   ],
   "source": [
    "q = pickle.load(open('quimby.obj', 'rb'))"
   ]
  },
  {
   "cell_type": "markdown",
   "metadata": {},
   "source": [
    "## Create city engine"
   ]
  },
  {
   "cell_type": "code",
   "execution_count": 2,
   "metadata": {
    "ExecuteTime": {
     "end_time": "2019-04-18T20:14:45.311466Z",
     "start_time": "2019-04-18T20:14:45.030185Z"
    }
   },
   "outputs": [],
   "source": [
    "map_size = \n",
    "steps = 50"
   ]
  },
  {
   "cell_type": "code",
   "execution_count": null,
   "metadata": {},
   "outputs": [],
   "source": [
    "%%capture\n",
    "m = MicropolisControl(map_size,map_size,PADDING=5,display =True)"
   ]
  },
  {
   "cell_type": "code",
   "execution_count": 9,
   "metadata": {
    "ExecuteTime": {
     "end_time": "2019-04-18T09:34:28.367579Z",
     "start_time": "2019-04-18T09:34:28.170897Z"
    }
   },
   "outputs": [],
   "source": [
    "# Creates a blank canvas without terrain\n",
    "m.clearMap()\n",
    "# builds the city\n",
    "for c in best_city:\n",
    "    m.doBotTool(c[0],c[1],c[2])"
   ]
  },
  {
   "cell_type": "markdown",
   "metadata": {},
   "source": [
    "### Run simulation"
   ]
  },
  {
   "cell_type": "code",
   "execution_count": null,
   "metadata": {},
   "outputs": [],
   "source": [
    "avg_pop = 0\n",
    "pop_run = 0"
   ]
  },
  {
   "cell_type": "code",
   "execution_count": 45,
   "metadata": {
    "ExecuteTime": {
     "end_time": "2019-04-18T08:53:02.414995Z",
     "start_time": "2019-04-18T08:53:02.337663Z"
    }
   },
   "outputs": [
    {
     "name": "stdout",
     "output_type": "stream",
     "text": [
      "7420 5605.851428571428\n"
     ]
    }
   ],
   "source": [
    "# Run simulation for steps\n",
    "pop = 0\n",
    "for i in range(steps) :\n",
    "    m.engine.simTick()\n",
    "    pop += m.engine.cityPop\n",
    "avg_pop = (avg_pop*pop_run + pop/steps)/(pop_run+1)\n",
    "pop_run +=1\n",
    "print(m.engine.cityPop, avg_pop)"
   ]
  },
  {
   "cell_type": "markdown",
   "metadata": {},
   "source": [
    "### Display environment"
   ]
  },
  {
   "cell_type": "code",
   "execution_count": null,
   "metadata": {
    "ExecuteTime": {
     "start_time": "2019-04-18T08:47:39.553Z"
    }
   },
   "outputs": [],
   "source": [
    "m.render()"
   ]
  },
  {
   "cell_type": "code",
   "execution_count": null,
   "metadata": {},
   "outputs": [],
   "source": [
    "m.engine.simTick()\n",
    "m.engine.simUpdate()"
   ]
  },
  {
   "cell_type": "code",
   "execution_count": null,
   "metadata": {
    "ExecuteTime": {
     "start_time": "2019-04-18T08:30:51.090Z"
    }
   },
   "outputs": [],
   "source": [
    "m.win1.destroy()"
   ]
  },
  {
   "cell_type": "code",
   "execution_count": 8,
   "metadata": {
    "ExecuteTime": {
     "end_time": "2019-04-18T09:03:27.548515Z",
     "start_time": "2019-04-18T09:03:27.532904Z"
    }
   },
   "outputs": [],
   "source": [
    "m.close()"
   ]
  }
 ],
 "metadata": {
  "kernelspec": {
   "display_name": "Python 3",
   "language": "python",
   "name": "python3"
  },
  "language_info": {
   "codemirror_mode": {
    "name": "ipython",
    "version": 3
   },
   "file_extension": ".py",
   "mimetype": "text/x-python",
   "name": "python",
   "nbconvert_exporter": "python",
   "pygments_lexer": "ipython3",
   "version": "3.6.7"
  }
 },
 "nbformat": 4,
 "nbformat_minor": 2
}
