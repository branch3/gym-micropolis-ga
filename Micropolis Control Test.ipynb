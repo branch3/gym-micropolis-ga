{
 "cells": [
  {
   "cell_type": "code",
   "execution_count": 1,
   "metadata": {
    "ExecuteTime": {
     "end_time": "2019-04-15T07:06:25.735674Z",
     "start_time": "2019-04-15T07:06:25.708547Z"
    }
   },
   "outputs": [],
   "source": [
    "from MicropolisControlScript import Quimby\n",
    "from gym_micropolis.envs.corecontrol import MicropolisControl\n",
    "from gym_micropolis.envs.tilemap import TileMap,zoneFromInt\n",
    "from gi.repository import Gtk as gtk"
   ]
  },
  {
   "cell_type": "markdown",
   "metadata": {},
   "source": [
    "# Create Control Environnement"
   ]
  },
  {
   "cell_type": "code",
   "execution_count": 2,
   "metadata": {
    "ExecuteTime": {
     "end_time": "2019-04-15T06:41:21.922920Z",
     "start_time": "2019-04-15T06:41:21.863635Z"
    }
   },
   "outputs": [],
   "source": [
    "%%capture\n",
    "s = 20\n",
    "m = MicropolisControl(s,s,PADDING=5,display =True)"
   ]
  },
  {
   "cell_type": "code",
   "execution_count": 3,
   "metadata": {
    "ExecuteTime": {
     "end_time": "2019-04-15T06:41:23.841633Z",
     "start_time": "2019-04-15T06:41:23.820717Z"
    }
   },
   "outputs": [],
   "source": [
    "m.clearMap()"
   ]
  },
  {
   "cell_type": "markdown",
   "metadata": {},
   "source": [
    "# Fill it "
   ]
  },
  {
   "cell_type": "code",
   "execution_count": 4,
   "metadata": {
    "ExecuteTime": {
     "end_time": "2019-04-15T06:34:40.098959Z",
     "start_time": "2019-04-15T06:34:40.073456Z"
    }
   },
   "outputs": [],
   "source": [
    "m.doTool(1,1,'NuclearPowerPlant')\n",
    "m.doTool(5,1,'Residential')\n",
    "m.doTool(8,1,'Commercial')\n",
    "m.doTool(4,3,'Road')\n",
    "m.doTool(5,3,'Road')\n",
    "m.doTool(6,3,'Road')\n",
    "m.doTool(7,3,'Road')\n",
    "m.doTool(8,3,'Road')\n",
    "m.doTool(9,3,'Road')\n",
    "m.doTool(10,4,'Road')\n",
    "m.doTool(5,5,'Industrial')\n",
    "m.doTool(2,5,'Industrial')\n",
    "m.doTool(8,5,'Residential')"
   ]
  },
  {
   "cell_type": "code",
   "execution_count": 7,
   "metadata": {
    "ExecuteTime": {
     "end_time": "2019-04-14T17:33:19.223683Z",
     "start_time": "2019-04-14T17:33:19.148703Z"
    }
   },
   "outputs": [
    {
     "name": "stdout",
     "output_type": "stream",
     "text": [
      "2880\n"
     ]
    }
   ],
   "source": [
    "for i in range(1000) :\n",
    "    m.engine.simTick()\n",
    "print(m.engine.cityPop)"
   ]
  },
  {
   "cell_type": "code",
   "execution_count": 6,
   "metadata": {
    "ExecuteTime": {
     "end_time": "2019-04-15T06:42:50.221582Z",
     "start_time": "2019-04-15T06:42:50.195921Z"
    }
   },
   "outputs": [
    {
     "ename": "SyntaxError",
     "evalue": "invalid syntax (<ipython-input-6-bf3cd98b907d>, line 1)",
     "output_type": "error",
     "traceback": [
      "\u001b[0;36m  File \u001b[0;32m\"<ipython-input-6-bf3cd98b907d>\"\u001b[0;36m, line \u001b[0;32m1\u001b[0m\n\u001b[0;31m    m.engine.\u001b[0m\n\u001b[0m             ^\u001b[0m\n\u001b[0;31mSyntaxError\u001b[0m\u001b[0;31m:\u001b[0m invalid syntax\n"
     ]
    }
   ],
   "source": [
    "m.engine."
   ]
  },
  {
   "cell_type": "code",
   "execution_count": 24,
   "metadata": {
    "ExecuteTime": {
     "end_time": "2019-04-15T06:42:39.780016Z",
     "start_time": "2019-04-15T06:42:39.746616Z"
    }
   },
   "outputs": [],
   "source": [
    "m.render()"
   ]
  },
  {
   "cell_type": "code",
   "execution_count": 8,
   "metadata": {
    "ExecuteTime": {
     "end_time": "2019-04-15T06:39:41.303598Z",
     "start_time": "2019-04-15T06:39:41.297314Z"
    }
   },
   "outputs": [
    {
     "name": "stdout",
     "output_type": "stream",
     "text": [
      "('PAGEREMOVED', <micropolisnotebook.MicropolisNotebook object at 0x7fa18042c870 (pyMicropolis+micropolisEngine+micropolisnotebook+MicropolisNotebook at 0x2ece470)>, <micropolisnotebook.MicropolisNotebook object at 0x7fa18042c870 (pyMicropolis+micropolisEngine+micropolisnotebook+MicropolisNotebook at 0x2ece470)>, <micropolisnoticepanel.MicropolisNoticePanel object at 0x7fa18042cbd0 (pyMicropolis+micropolisEngine+micropolisnoticepanel+MicropolisNoticePanel at 0x2ed0360)>, 0)\n",
      "('PAGEREMOVED', <micropolisnotebook.MicropolisNotebook object at 0x7fa18042c870 (pyMicropolis+micropolisEngine+micropolisnotebook+MicropolisNotebook at 0x2ece470)>, <micropolisnotebook.MicropolisNotebook object at 0x7fa18042c870 (pyMicropolis+micropolisEngine+micropolisnotebook+MicropolisNotebook at 0x2ece470)>, <micropolismessagespanel.MicropolisMessagesPanel object at 0x7fa18042ce10 (pyMicropolis+micropolisEngine+micropolismessagespanel+MicropolisMessagesPanel at 0x2ed0510)>, 0)\n",
      "('PAGEREMOVED', <micropolisnotebook.MicropolisNotebook object at 0x7fa18042c870 (pyMicropolis+micropolisEngine+micropolisnotebook+MicropolisNotebook at 0x2ece470)>, <micropolisnotebook.MicropolisNotebook object at 0x7fa18042c870 (pyMicropolis+micropolisEngine+micropolisnotebook+MicropolisNotebook at 0x2ece470)>, <micropolisevaluationpanel.MicropolisEvaluationPanel object at 0x7fa180431d38 (pyMicropolis+micropolisEngine+micropolisevaluationpanel+MicropolisEvaluationPanel at 0x2ed06c0)>, 0)\n",
      "('PAGEREMOVED', <micropolisnotebook.MicropolisNotebook object at 0x7fa18042c870 (pyMicropolis+micropolisEngine+micropolisnotebook+MicropolisNotebook at 0x2ece470)>, <micropolisnotebook.MicropolisNotebook object at 0x7fa18042c870 (pyMicropolis+micropolisEngine+micropolisnotebook+MicropolisNotebook at 0x2ece470)>, <micropolishistorypanel.MicropolisHistoryPanel object at 0x7fa180431f78 (pyMicropolis+micropolisEngine+micropolishistorypanel+MicropolisHistoryPanel at 0x2ed0870)>, 0)\n",
      "('PAGEREMOVED', <micropolisnotebook.MicropolisNotebook object at 0x7fa18042c870 (pyMicropolis+micropolisEngine+micropolisnotebook+MicropolisNotebook at 0x2ece470)>, <micropolisnotebook.MicropolisNotebook object at 0x7fa18042c870 (pyMicropolis+micropolisEngine+micropolisnotebook+MicropolisNotebook at 0x2ece470)>, <micropolisbudgetpanel.MicropolisBudgetPanel object at 0x7fa1804360d8 (pyMicropolis+micropolisEngine+micropolisbudgetpanel+MicropolisBudgetPanel at 0x2ed0a20)>, 0)\n",
      "('PAGEREMOVED', <micropolisnotebook.MicropolisNotebook object at 0x7fa18042c870 (pyMicropolis+micropolisEngine+micropolisnotebook+MicropolisNotebook at 0x2ece470)>, <micropolisnotebook.MicropolisNotebook object at 0x7fa18042c870 (pyMicropolis+micropolisEngine+micropolisnotebook+MicropolisNotebook at 0x2ece470)>, <micropolismappanel.MicropolisMapPanel object at 0x7fa180436798 (pyMicropolis+micropolisEngine+micropolismappanel+MicropolisMapPanel at 0x2ed0bd0)>, 0)\n",
      "('PAGEREMOVED', <micropolisnotebook.MicropolisNotebook object at 0x7fa18042c870 (pyMicropolis+micropolisEngine+micropolisnotebook+MicropolisNotebook at 0x2ece470)>, <micropolisnotebook.MicropolisNotebook object at 0x7fa18042c870 (pyMicropolis+micropolisEngine+micropolisnotebook+MicropolisNotebook at 0x2ece470)>, <micropolisdisasterspanel.MicropolisDisastersPanel object at 0x7fa180435bd0 (pyMicropolis+micropolisEngine+micropolisdisasterspanel+MicropolisDisastersPanel at 0x2ed0d80)>, 0)\n",
      "('PAGEREMOVED', <micropolisnotebook.MicropolisNotebook object at 0x7fa18042c870 (pyMicropolis+micropolisEngine+micropolisnotebook+MicropolisNotebook at 0x2ece470)>, <micropolisnotebook.MicropolisNotebook object at 0x7fa18042c870 (pyMicropolis+micropolisEngine+micropolisnotebook+MicropolisNotebook at 0x2ece470)>, <micropoliscontrolpanel.MicropolisControlPanel object at 0x7fa17dc2b120 (pyMicropolis+micropolisEngine+micropoliscontrolpanel+MicropolisControlPanel at 0x2ed0f30)>, 0)\n"
     ]
    }
   ],
   "source": [
    "m.win1.destroy()"
   ]
  },
  {
   "cell_type": "markdown",
   "metadata": {},
   "source": [
    "# Display"
   ]
  },
  {
   "cell_type": "code",
   "execution_count": 127,
   "metadata": {
    "ExecuteTime": {
     "end_time": "2019-04-14T16:58:35.144426Z",
     "start_time": "2019-04-14T16:58:35.141400Z"
    }
   },
   "outputs": [],
   "source": [
    "m.engine.simTick()\n",
    "m.engine.simUpdate()"
   ]
  },
  {
   "cell_type": "code",
   "execution_count": 167,
   "metadata": {
    "ExecuteTime": {
     "end_time": "2019-04-14T17:06:17.756330Z",
     "start_time": "2019-04-14T17:06:17.743910Z"
    }
   },
   "outputs": [
    {
     "name": "stdout",
     "output_type": "stream",
     "text": [
      "('PAUSED', False, 'running', True)\n"
     ]
    }
   ],
   "source": [
    "m.engine.setSpeed(2)\n",
    "m.engine.setPasses(1)\n",
    "m.engine.resume()\n"
   ]
  },
  {
   "cell_type": "code",
   "execution_count": 17,
   "metadata": {
    "ExecuteTime": {
     "end_time": "2019-04-14T17:04:11.634362Z",
     "start_time": "2019-04-14T17:04:11.630249Z"
    }
   },
   "outputs": [
    {
     "name": "stdout",
     "output_type": "stream",
     "text": [
      "('PAGEREMOVED', <micropolisnotebook.MicropolisNotebook object at 0x7fa17dc53438 (pyMicropolis+micropolisEngine+micropolisnotebook+MicropolisNotebook at 0x2ecf820)>, <micropolisnotebook.MicropolisNotebook object at 0x7fa17dc53438 (pyMicropolis+micropolisEngine+micropolisnotebook+MicropolisNotebook at 0x2ecf820)>, <micropolisnoticepanel.MicropolisNoticePanel object at 0x7fa17dc53480 (pyMicropolis+micropolisEngine+micropolisnoticepanel+MicropolisNoticePanel at 0x30003a0)>, 0)\n",
      "('PAGEREMOVED', <micropolisnotebook.MicropolisNotebook object at 0x7fa17dc53438 (pyMicropolis+micropolisEngine+micropolisnotebook+MicropolisNotebook at 0x2ecf820)>, <micropolisnotebook.MicropolisNotebook object at 0x7fa17dc53438 (pyMicropolis+micropolisEngine+micropolisnotebook+MicropolisNotebook at 0x2ecf820)>, <micropolismessagespanel.MicropolisMessagesPanel object at 0x7fa17dc53558 (pyMicropolis+micropolisEngine+micropolismessagespanel+MicropolisMessagesPanel at 0x3000550)>, 0)\n",
      "('PAGEREMOVED', <micropolisnotebook.MicropolisNotebook object at 0x7fa17dc53438 (pyMicropolis+micropolisEngine+micropolisnotebook+MicropolisNotebook at 0x2ecf820)>, <micropolisnotebook.MicropolisNotebook object at 0x7fa17dc53438 (pyMicropolis+micropolisEngine+micropolisnotebook+MicropolisNotebook at 0x2ecf820)>, <micropolisevaluationpanel.MicropolisEvaluationPanel object at 0x7fa17dc53708 (pyMicropolis+micropolisEngine+micropolisevaluationpanel+MicropolisEvaluationPanel at 0x3000700)>, 0)\n",
      "('PAGEREMOVED', <micropolisnotebook.MicropolisNotebook object at 0x7fa17dc53438 (pyMicropolis+micropolisEngine+micropolisnotebook+MicropolisNotebook at 0x2ecf820)>, <micropolisnotebook.MicropolisNotebook object at 0x7fa17dc53438 (pyMicropolis+micropolisEngine+micropolisnotebook+MicropolisNotebook at 0x2ecf820)>, <micropolishistorypanel.MicropolisHistoryPanel object at 0x7fa180417a68 (pyMicropolis+micropolisEngine+micropolishistorypanel+MicropolisHistoryPanel at 0x30008b0)>, 0)\n",
      "('PAGEREMOVED', <micropolisnotebook.MicropolisNotebook object at 0x7fa17dc53438 (pyMicropolis+micropolisEngine+micropolisnotebook+MicropolisNotebook at 0x2ecf820)>, <micropolisnotebook.MicropolisNotebook object at 0x7fa17dc53438 (pyMicropolis+micropolisEngine+micropolisnotebook+MicropolisNotebook at 0x2ecf820)>, <micropolisbudgetpanel.MicropolisBudgetPanel object at 0x7fa17dc53870 (pyMicropolis+micropolisEngine+micropolisbudgetpanel+MicropolisBudgetPanel at 0x3000a60)>, 0)\n",
      "('PAGEREMOVED', <micropolisnotebook.MicropolisNotebook object at 0x7fa17dc53438 (pyMicropolis+micropolisEngine+micropolisnotebook+MicropolisNotebook at 0x2ecf820)>, <micropolisnotebook.MicropolisNotebook object at 0x7fa17dc53438 (pyMicropolis+micropolisEngine+micropolisnotebook+MicropolisNotebook at 0x2ecf820)>, <micropolismappanel.MicropolisMapPanel object at 0x7fa17dc53e10 (pyMicropolis+micropolisEngine+micropolismappanel+MicropolisMapPanel at 0x3000c10)>, 0)\n",
      "('PAGEREMOVED', <micropolisnotebook.MicropolisNotebook object at 0x7fa17dc53438 (pyMicropolis+micropolisEngine+micropolisnotebook+MicropolisNotebook at 0x2ecf820)>, <micropolisnotebook.MicropolisNotebook object at 0x7fa17dc53438 (pyMicropolis+micropolisEngine+micropolisnotebook+MicropolisNotebook at 0x2ecf820)>, <micropolisdisasterspanel.MicropolisDisastersPanel object at 0x7fa17dc55990 (pyMicropolis+micropolisEngine+micropolisdisasterspanel+MicropolisDisastersPanel at 0x3000dc0)>, 0)\n",
      "('PAGEREMOVED', <micropolisnotebook.MicropolisNotebook object at 0x7fa17dc53438 (pyMicropolis+micropolisEngine+micropolisnotebook+MicropolisNotebook at 0x2ecf820)>, <micropolisnotebook.MicropolisNotebook object at 0x7fa17dc53438 (pyMicropolis+micropolisEngine+micropolisnotebook+MicropolisNotebook at 0x2ecf820)>, <micropoliscontrolpanel.MicropolisControlPanel object at 0x7fa17dc57678 (pyMicropolis+micropolisEngine+micropoliscontrolpanel+MicropolisControlPanel at 0x3000f70)>, 0)\n"
     ]
    }
   ],
   "source": [
    "m.win1.destroy()"
   ]
  },
  {
   "cell_type": "code",
   "execution_count": 57,
   "metadata": {
    "ExecuteTime": {
     "end_time": "2019-04-14T16:53:57.292004Z",
     "start_time": "2019-04-14T16:53:57.244411Z"
    }
   },
   "outputs": [],
   "source": [
    "??m.engine.update"
   ]
  },
  {
   "cell_type": "code",
   "execution_count": 131,
   "metadata": {
    "ExecuteTime": {
     "end_time": "2019-04-14T16:58:38.639639Z",
     "start_time": "2019-04-14T16:58:38.631364Z"
    }
   },
   "outputs": [
    {
     "data": {
      "text/plain": [
       "-1"
      ]
     },
     "execution_count": 131,
     "metadata": {},
     "output_type": "execute_result"
    }
   ],
   "source": [
    "m.engine.cityPop"
   ]
  },
  {
   "cell_type": "code",
   "execution_count": 19,
   "metadata": {
    "ExecuteTime": {
     "end_time": "2019-04-14T17:27:56.518269Z",
     "start_time": "2019-04-14T17:27:56.509500Z"
    }
   },
   "outputs": [],
   "source": [
    "m.render()"
   ]
  },
  {
   "cell_type": "code",
   "execution_count": 11,
   "metadata": {
    "ExecuteTime": {
     "end_time": "2019-04-13T16:50:36.696998Z",
     "start_time": "2019-04-13T16:50:36.686172Z"
    }
   },
   "outputs": [
    {
     "data": {
      "text/plain": [
       "0"
      ]
     },
     "execution_count": 11,
     "metadata": {},
     "output_type": "execute_result"
    }
   ],
   "source": [
    "m.engine."
   ]
  },
  {
   "cell_type": "code",
   "execution_count": 45,
   "metadata": {
    "ExecuteTime": {
     "end_time": "2019-04-13T16:10:25.836693Z",
     "start_time": "2019-04-13T16:10:25.822251Z"
    }
   },
   "outputs": [],
   "source": [
    "m.updateMap()"
   ]
  },
  {
   "cell_type": "code",
   "execution_count": 18,
   "metadata": {
    "ExecuteTime": {
     "end_time": "2019-04-13T16:48:56.917777Z",
     "start_time": "2019-04-13T16:48:56.908421Z"
    }
   },
   "outputs": [
    {
     "ename": "AttributeError",
     "evalue": "engine",
     "output_type": "error",
     "traceback": [
      "\u001b[0;31m---------------------------------------------------------------------------\u001b[0m",
      "\u001b[0;31mAttributeError\u001b[0m                            Traceback (most recent call last)",
      "\u001b[0;32m<ipython-input-18-c3f79bf033d8>\u001b[0m in \u001b[0;36m<module>\u001b[0;34m\u001b[0m\n\u001b[0;32m----> 1\u001b[0;31m \u001b[0mm\u001b[0m\u001b[0;34m.\u001b[0m\u001b[0mclose\u001b[0m\u001b[0;34m(\u001b[0m\u001b[0;34m)\u001b[0m\u001b[0;34m\u001b[0m\u001b[0;34m\u001b[0m\u001b[0m\n\u001b[0m",
      "\u001b[0;32m~/ML_TERM/gym-micropolis-ga/gym_micropolis/envs/corecontrol.py\u001b[0m in \u001b[0;36mclose\u001b[0;34m(self)\u001b[0m\n\u001b[1;32m    288\u001b[0m     \u001b[0;32mdef\u001b[0m \u001b[0mclose\u001b[0m\u001b[0;34m(\u001b[0m\u001b[0mself\u001b[0m\u001b[0;34m)\u001b[0m\u001b[0;34m:\u001b[0m\u001b[0;34m\u001b[0m\u001b[0;34m\u001b[0m\u001b[0m\n\u001b[1;32m    289\u001b[0m     \u001b[0;31m#   self.engine.doReallyQuit()\u001b[0m\u001b[0;34m\u001b[0m\u001b[0;34m\u001b[0m\u001b[0;34m\u001b[0m\u001b[0m\n\u001b[0;32m--> 290\u001b[0;31m         \u001b[0;32mdel\u001b[0m\u001b[0;34m(\u001b[0m\u001b[0mself\u001b[0m\u001b[0;34m.\u001b[0m\u001b[0mengine\u001b[0m\u001b[0;34m)\u001b[0m\u001b[0;34m\u001b[0m\u001b[0;34m\u001b[0m\u001b[0m\n\u001b[0m",
      "\u001b[0;31mAttributeError\u001b[0m: engine"
     ]
    }
   ],
   "source": [
    "m.close()"
   ]
  },
  {
   "cell_type": "code",
   "execution_count": 19,
   "metadata": {
    "ExecuteTime": {
     "end_time": "2019-04-13T18:27:22.765195Z",
     "start_time": "2019-04-13T18:27:22.760096Z"
    }
   },
   "outputs": [
    {
     "ename": "AttributeError",
     "evalue": "'MicropolisControl' object has no attribute 'engine'",
     "output_type": "error",
     "traceback": [
      "\u001b[0;31m---------------------------------------------------------------------------\u001b[0m",
      "\u001b[0;31mAttributeError\u001b[0m                            Traceback (most recent call last)",
      "\u001b[0;32m<ipython-input-19-558ccc2c762b>\u001b[0m in \u001b[0;36m<module>\u001b[0;34m\u001b[0m\n\u001b[0;32m----> 1\u001b[0;31m \u001b[0mm\u001b[0m\u001b[0;34m.\u001b[0m\u001b[0mengine\u001b[0m\u001b[0;34m.\u001b[0m\u001b[0mcityPop\u001b[0m\u001b[0;34m\u001b[0m\u001b[0;34m\u001b[0m\u001b[0m\n\u001b[0m",
      "\u001b[0;31mAttributeError\u001b[0m: 'MicropolisControl' object has no attribute 'engine'"
     ]
    }
   ],
   "source": [
    "m.engine.cityPop"
   ]
  }
 ],
 "metadata": {
  "kernelspec": {
   "display_name": "Python 3",
   "language": "python",
   "name": "python3"
  },
  "language_info": {
   "codemirror_mode": {
    "name": "ipython",
    "version": 3
   },
   "file_extension": ".py",
   "mimetype": "text/x-python",
   "name": "python",
   "nbconvert_exporter": "python",
   "pygments_lexer": "ipython3",
   "version": "3.6.7"
  }
 },
 "nbformat": 4,
 "nbformat_minor": 2
}
