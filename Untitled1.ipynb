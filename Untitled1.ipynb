{
 "cells": [
  {
   "cell_type": "code",
   "execution_count": 226,
   "metadata": {
    "ExecuteTime": {
     "end_time": "2019-04-15T07:13:54.697741Z",
     "start_time": "2019-04-15T07:13:54.688292Z"
    }
   },
   "outputs": [],
   "source": [
    "from MicropolisControlScript import Quimby"
   ]
  },
  {
   "cell_type": "code",
   "execution_count": 227,
   "metadata": {
    "ExecuteTime": {
     "end_time": "2019-04-15T07:13:55.416450Z",
     "start_time": "2019-04-15T07:13:55.404332Z"
    }
   },
   "outputs": [],
   "source": [
    "b = [[9, 7, 'Residential'],\n",
    " [16, 6, 'Residential'],\n",
    " [12, 19, 'NuclearPowerPlant'],\n",
    " [18, 11, 'Road'],\n",
    " [6, 6, 'Industrial'],\n",
    " [18, 5, 'Residential'],\n",
    " [9, 9, 'Commercial'],\n",
    " [3, 9, 'NuclearPowerPlant'],\n",
    " [18, 8, 'NuclearPowerPlant'],\n",
    " [9, 9, 'Commercial']]"
   ]
  },
  {
   "cell_type": "code",
   "execution_count": 228,
   "metadata": {
    "ExecuteTime": {
     "end_time": "2019-04-15T07:13:56.359215Z",
     "start_time": "2019-04-15T07:13:56.294440Z"
    }
   },
   "outputs": [
    {
     "name": "stdout",
     "output_type": "stream",
     "text": [
      "kwargs:  {'bot': <gym_micropolis.envs.corecontrol.MicropolisControl object at 0x7f57e86f99e8>, 'rank': None, 'root_gtk': None}\n",
      "MicropoligGenericEngine initGamePython: This should be called at the end of the concrete subclass's __init__ method.\n",
      "creating engine\n",
      "creating new tile engine\n",
      "built swig object\n",
      "swig tile engine: <pyMicropolis.tileEngine.tileengine.TileEngine; proxy of <Swig Object of type 'TileEngine *' at 0x7f57e870e3f0> >\n",
      "config function: <bound method MicropolisDrawingArea.configTileEngine of <micropolisdrawingarea.EditableMicropolisDrawingArea object at 0x7f57e87e67e0 (pyMicropolis+micropolisEngine+micropolisdrawingarea+EditableMicropolisDrawingArea at 0x2c85330)>>\n",
      "configuring NoticeArea\n",
      "tengine setBuffer fn: <bound method TileEngine.setBuffer of <pyMicropolis.tileEngine.tileengine.TileEngine; proxy of <Swig Object of type 'TileEngine *' at 0x7f57e870e3f0> >>\n",
      "configured tile engine\n",
      "done creating engine\n",
      "('ADDVIEW', <micropolisdrawingarea.EditableMicropolisDrawingArea object at 0x7f57e87e67e0 (pyMicropolis+micropolisEngine+micropolisdrawingarea+EditableMicropolisDrawingArea at 0x2c85330)>)\n",
      "('selectToolByName', 'Bulldozer')\n",
      "creating engine\n",
      "creating new tile engine\n",
      "built swig object\n",
      "swig tile engine: <pyMicropolis.tileEngine.tileengine.TileEngine; proxy of <Swig Object of type 'TileEngine *' at 0x7f57a748f270> >\n",
      "config function: <bound method MicropolisDrawingArea.configTileEngine of <micropolisdrawingarea.NavigationMicropolisDrawingArea object at 0x7f5836d0aaf8 (pyMicropolis+micropolisEngine+micropolisdrawingarea+NavigationMicropolisDrawingArea at 0x2c85450)>>\n",
      "configuring NoticeArea\n",
      "tengine setBuffer fn: <bound method TileEngine.setBuffer of <pyMicropolis.tileEngine.tileengine.TileEngine; proxy of <Swig Object of type 'TileEngine *' at 0x7f57a748f270> >>\n",
      "configured tile engine\n",
      "done creating engine\n",
      "('ADDVIEW', <micropolisdrawingarea.NavigationMicropolisDrawingArea object at 0x7f5836d0aaf8 (pyMicropolis+micropolisEngine+micropolisdrawingarea+NavigationMicropolisDrawingArea at 0x2c85450)>)\n",
      "('selectToolByName', 'Bulldozer')\n",
      "creating engine\n",
      "creating new tile engine\n",
      "built swig object\n",
      "swig tile engine: <pyMicropolis.tileEngine.tileengine.TileEngine; proxy of <Swig Object of type 'TileEngine *' at 0x7f57e870ee70> >\n",
      "config function: <bound method MicropolisDrawingArea.configTileEngine of <micropolisdrawingarea.PreviewMicropolisDrawingArea object at 0x7f57e8059c18 (pyMicropolis+micropolisEngine+micropolisdrawingarea+PreviewMicropolisDrawingArea at 0x2c85690)>>\n",
      "configuring NoticeArea\n",
      "tengine setBuffer fn: <bound method TileEngine.setBuffer of <pyMicropolis.tileEngine.tileengine.TileEngine; proxy of <Swig Object of type 'TileEngine *' at 0x7f57e870ee70> >>\n",
      "configured tile engine\n",
      "done creating engine\n",
      "('ADDVIEW', <micropolisdrawingarea.PreviewMicropolisDrawingArea object at 0x7f57e8059c18 (pyMicropolis+micropolisEngine+micropolisdrawingarea+PreviewMicropolisDrawingArea at 0x2c85690)>)\n",
      "('selectToolByName', 'Bulldozer')\n",
      "creating engine\n",
      "creating new tile engine\n",
      "built swig object\n",
      "swig tile engine: <pyMicropolis.tileEngine.tileengine.TileEngine; proxy of <Swig Object of type 'TileEngine *' at 0x7f57e870e2d0> >\n",
      "config function: <bound method MicropolisDrawingArea.configTileEngine of <micropolisdrawingarea.NoticeMicropolisDrawingArea object at 0x7f57a7491c18 (pyMicropolis+micropolisEngine+micropolisdrawingarea+NoticeMicropolisDrawingArea at 0x2c858d0)>>\n",
      "configuring NoticeArea\n",
      "tengine setBuffer fn: <bound method TileEngine.setBuffer of <pyMicropolis.tileEngine.tileengine.TileEngine; proxy of <Swig Object of type 'TileEngine *' at 0x7f57e870e2d0> >>\n",
      "configured tile engine\n",
      "done creating engine\n",
      "('ADDVIEW', <micropolisdrawingarea.NoticeMicropolisDrawingArea object at 0x7f57a7491c18 (pyMicropolis+micropolisEngine+micropolisdrawingarea+NoticeMicropolisDrawingArea at 0x2c858d0)>)\n",
      "('selectToolByName', 'Bulldozer')\n",
      "('PAGEADDED', <micropolisnotebook.MicropolisNotebook object at 0x7f57a7491b40 (pyMicropolis+micropolisEngine+micropolisnotebook+MicropolisNotebook at 0x2cbd5d0)>, <micropolisnoticepanel.MicropolisNoticePanel object at 0x7f57a7491a20 (pyMicropolis+micropolisEngine+micropolisnoticepanel+MicropolisNoticePanel at 0x2cef320)>, 0)\n",
      "('SWITCHPAGE', <micropolisnotebook.MicropolisNotebook object at 0x7f57a7491b40 (pyMicropolis+micropolisEngine+micropolisnotebook+MicropolisNotebook at 0x2cbd5d0)>, <micropolisnotebook.MicropolisNotebook object at 0x7f57a7491b40 (pyMicropolis+micropolisEngine+micropolisnotebook+MicropolisNotebook at 0x2cbd5d0)>, <micropolisnoticepanel.MicropolisNoticePanel object at 0x7f57a7491a20 (pyMicropolis+micropolisEngine+micropolisnoticepanel+MicropolisNoticePanel at 0x2cef320)>, 0)\n",
      "('PAGEADDED', <micropolisnotebook.MicropolisNotebook object at 0x7f57a7491b40 (pyMicropolis+micropolisEngine+micropolisnotebook+MicropolisNotebook at 0x2cbd5d0)>, <micropolismessagespanel.MicropolisMessagesPanel object at 0x7f57a7491c60 (pyMicropolis+micropolisEngine+micropolismessagespanel+MicropolisMessagesPanel at 0x2cef4d0)>, 1)\n",
      "('SWITCHPAGE', <micropolisnotebook.MicropolisNotebook object at 0x7f57a7491b40 (pyMicropolis+micropolisEngine+micropolisnotebook+MicropolisNotebook at 0x2cbd5d0)>, <micropolisnotebook.MicropolisNotebook object at 0x7f57a7491b40 (pyMicropolis+micropolisEngine+micropolisnotebook+MicropolisNotebook at 0x2cbd5d0)>, <micropolismessagespanel.MicropolisMessagesPanel object at 0x7f57a7491c60 (pyMicropolis+micropolisEngine+micropolismessagespanel+MicropolisMessagesPanel at 0x2cef4d0)>, 1)\n",
      "('PAGEADDED', <micropolisnotebook.MicropolisNotebook object at 0x7f57a7491b40 (pyMicropolis+micropolisEngine+micropolisnotebook+MicropolisNotebook at 0x2cbd5d0)>, <micropolisevaluationpanel.MicropolisEvaluationPanel object at 0x7f57a7491dc8 (pyMicropolis+micropolisEngine+micropolisevaluationpanel+MicropolisEvaluationPanel at 0x2cef680)>, 2)\n",
      "('SWITCHPAGE', <micropolisnotebook.MicropolisNotebook object at 0x7f57a7491b40 (pyMicropolis+micropolisEngine+micropolisnotebook+MicropolisNotebook at 0x2cbd5d0)>, <micropolisnotebook.MicropolisNotebook object at 0x7f57a7491b40 (pyMicropolis+micropolisEngine+micropolisnotebook+MicropolisNotebook at 0x2cbd5d0)>, <micropolisevaluationpanel.MicropolisEvaluationPanel object at 0x7f57a7491dc8 (pyMicropolis+micropolisEngine+micropolisevaluationpanel+MicropolisEvaluationPanel at 0x2cef680)>, 2)\n",
      "('PAGEADDED', <micropolisnotebook.MicropolisNotebook object at 0x7f57a7491b40 (pyMicropolis+micropolisEngine+micropolisnotebook+MicropolisNotebook at 0x2cbd5d0)>, <micropolishistorypanel.MicropolisHistoryPanel object at 0x7f57a7491ea0 (pyMicropolis+micropolisEngine+micropolishistorypanel+MicropolisHistoryPanel at 0x2cef830)>, 3)\n",
      "('SWITCHPAGE', <micropolisnotebook.MicropolisNotebook object at 0x7f57a7491b40 (pyMicropolis+micropolisEngine+micropolisnotebook+MicropolisNotebook at 0x2cbd5d0)>, <micropolisnotebook.MicropolisNotebook object at 0x7f57a7491b40 (pyMicropolis+micropolisEngine+micropolisnotebook+MicropolisNotebook at 0x2cbd5d0)>, <micropolishistorypanel.MicropolisHistoryPanel object at 0x7f57a7491ea0 (pyMicropolis+micropolisEngine+micropolishistorypanel+MicropolisHistoryPanel at 0x2cef830)>, 3)\n",
      "('PAGEADDED', <micropolisnotebook.MicropolisNotebook object at 0x7f57a7491b40 (pyMicropolis+micropolisEngine+micropolisnotebook+MicropolisNotebook at 0x2cbd5d0)>, <micropolisbudgetpanel.MicropolisBudgetPanel object at 0x7f57a7491f78 (pyMicropolis+micropolisEngine+micropolisbudgetpanel+MicropolisBudgetPanel at 0x2cef9e0)>, 4)\n",
      "('SWITCHPAGE', <micropolisnotebook.MicropolisNotebook object at 0x7f57a7491b40 (pyMicropolis+micropolisEngine+micropolisnotebook+MicropolisNotebook at 0x2cbd5d0)>, <micropolisnotebook.MicropolisNotebook object at 0x7f57a7491b40 (pyMicropolis+micropolisEngine+micropolisnotebook+MicropolisNotebook at 0x2cbd5d0)>, <micropolisbudgetpanel.MicropolisBudgetPanel object at 0x7f57a7491f78 (pyMicropolis+micropolisEngine+micropolisbudgetpanel+MicropolisBudgetPanel at 0x2cef9e0)>, 4)\n",
      "Initializing Map Panel\n",
      "('PAGEADDED', <micropolisnotebook.MicropolisNotebook object at 0x7f57a7491b40 (pyMicropolis+micropolisEngine+micropolisnotebook+MicropolisNotebook at 0x2cbd5d0)>, <micropolismappanel.MicropolisMapPanel object at 0x7f57a7493558 (pyMicropolis+micropolisEngine+micropolismappanel+MicropolisMapPanel at 0x2cefb90)>, 5)\n",
      "('SWITCHPAGE', <micropolisnotebook.MicropolisNotebook object at 0x7f57a7491b40 (pyMicropolis+micropolisEngine+micropolisnotebook+MicropolisNotebook at 0x2cbd5d0)>, <micropolisnotebook.MicropolisNotebook object at 0x7f57a7491b40 (pyMicropolis+micropolisEngine+micropolisnotebook+MicropolisNotebook at 0x2cbd5d0)>, <micropolismappanel.MicropolisMapPanel object at 0x7f57a7493558 (pyMicropolis+micropolisEngine+micropolismappanel+MicropolisMapPanel at 0x2cefb90)>, 5)\n",
      "('PAGEADDED', <micropolisnotebook.MicropolisNotebook object at 0x7f57a7491b40 (pyMicropolis+micropolisEngine+micropolisnotebook+MicropolisNotebook at 0x2cbd5d0)>, <micropolisdisasterspanel.MicropolisDisastersPanel object at 0x7f57a7493360 (pyMicropolis+micropolisEngine+micropolisdisasterspanel+MicropolisDisastersPanel at 0x2cefd40)>, 6)\n",
      "('SWITCHPAGE', <micropolisnotebook.MicropolisNotebook object at 0x7f57a7491b40 (pyMicropolis+micropolisEngine+micropolisnotebook+MicropolisNotebook at 0x2cbd5d0)>, <micropolisnotebook.MicropolisNotebook object at 0x7f57a7491b40 (pyMicropolis+micropolisEngine+micropolisnotebook+MicropolisNotebook at 0x2cbd5d0)>, <micropolisdisasterspanel.MicropolisDisastersPanel object at 0x7f57a7493360 (pyMicropolis+micropolisEngine+micropolisdisasterspanel+MicropolisDisastersPanel at 0x2cefd40)>, 6)\n",
      "('found speed', 0, 'any passes', 0, 'current', 200, 'i', 0, 'label', 'Paused')\n",
      "('found speed', 0, 'passes', 0, 'i', 0, 'label', 'Paused')\n",
      "('PAGEADDED', <micropolisnotebook.MicropolisNotebook object at 0x7f57a7491b40 (pyMicropolis+micropolisEngine+micropolisnotebook+MicropolisNotebook at 0x2cbd5d0)>, <micropoliscontrolpanel.MicropolisControlPanel object at 0x7f57a7493ea0 (pyMicropolis+micropolisEngine+micropoliscontrolpanel+MicropolisControlPanel at 0x2cefef0)>, 7)\n",
      "('SWITCHPAGE', <micropolisnotebook.MicropolisNotebook object at 0x7f57a7491b40 (pyMicropolis+micropolisEngine+micropolisnotebook+MicropolisNotebook at 0x2cbd5d0)>, <micropolisnotebook.MicropolisNotebook object at 0x7f57a7491b40 (pyMicropolis+micropolisEngine+micropolisnotebook+MicropolisNotebook at 0x2cbd5d0)>, <micropoliscontrolpanel.MicropolisControlPanel object at 0x7f57a7493ea0 (pyMicropolis+micropolisEngine+micropoliscontrolpanel+MicropolisControlPanel at 0x2cefef0)>, 7)\n",
      "==== STARTGAME\n",
      "GENERATECITY\n",
      "('found speed', 2, 'passes', 1, 'i', 2, 'label', 'Very Slow')\n",
      "('found speed', 2, 'any passes', 1, 'current', 1, 'i', 2, 'label', 'Very Slow')\n",
      "STARTMODE\n",
      "('found speed', 0, 'passes', 0, 'i', 0, 'label', 'Paused')\n",
      "('found speed', 0, 'any passes', 0, 'current', 0, 'i', 0, 'label', 'Paused')\n",
      "('PAUSED', True, 'running', False)\n",
      "('SWITCHPAGE', <micropolisnotebook.MicropolisNotebook object at 0x7f57a7491b40 (pyMicropolis+micropolisEngine+micropolisnotebook+MicropolisNotebook at 0x2cbd5d0)>, <micropolisnotebook.MicropolisNotebook object at 0x7f57a7491b40 (pyMicropolis+micropolisEngine+micropolisnotebook+MicropolisNotebook at 0x2cbd5d0)>, <micropolisnoticepanel.MicropolisNoticePanel object at 0x7f57a7491a20 (pyMicropolis+micropolisEngine+micropolisnoticepanel+MicropolisNoticePanel at 0x2cef320)>, 0)\n",
      "('WINDOW SIZE', 874, 716)\n",
      "PLAYCITY\n",
      "('found speed', 0, 'passes', 0, 'i', 0, 'label', 'Paused')\n",
      "('found speed', 0, 'any passes', 0, 'current', 1, 'i', 0, 'label', 'Paused')\n",
      "('found speed', 0, 'passes', 0, 'i', 0, 'label', 'Paused')\n",
      "('found speed', 2, 'passes', 1, 'i', 2, 'label', 'Very Slow')\n",
      "('found speed', 2, 'any passes', 1, 'current', 1, 'i', 2, 'label', 'Very Slow')\n",
      "('PAUSED', False, 'running', True)\n",
      "PLAYMODE\n",
      "('PAUSED', False, 'running', True)\n",
      "('found speed', 3, 'passes', 1, 'i', 3, 'label', 'Slow')\n",
      "('found speed', 3, 'passes', 100, 'i', 7, 'label', 'Ultra Fast')\n"
     ]
    }
   ],
   "source": [
    "m =  q.build_city(b,True)"
   ]
  },
  {
   "cell_type": "code",
   "execution_count": 6,
   "metadata": {
    "ExecuteTime": {
     "end_time": "2019-04-15T07:07:28.703817Z",
     "start_time": "2019-04-15T07:07:28.698967Z"
    }
   },
   "outputs": [],
   "source": [
    "q = Quimby(20,20,1,100,1)"
   ]
  },
  {
   "cell_type": "code",
   "execution_count": 324,
   "metadata": {
    "ExecuteTime": {
     "end_time": "2019-04-15T07:14:28.941253Z",
     "start_time": "2019-04-15T07:14:28.910662Z"
    }
   },
   "outputs": [
    {
     "name": "stdout",
     "output_type": "stream",
     "text": [
      "('PAGEREMOVED', <micropolisnotebook.MicropolisNotebook object at 0x7f57e86e9a68 (pyMicropolis+micropolisEngine+micropolisnotebook+MicropolisNotebook at 0x1b49f40)>, <micropolisnotebook.MicropolisNotebook object at 0x7f57e86e9a68 (pyMicropolis+micropolisEngine+micropolisnotebook+MicropolisNotebook at 0x1b49f40)>, <micropolisnoticepanel.MicropolisNoticePanel object at 0x7f57e86f3090 (pyMicropolis+micropolisEngine+micropolisnoticepanel+MicropolisNoticePanel at 0x2e29320)>, 0)\n",
      "('PAGEREMOVED', <micropolisnotebook.MicropolisNotebook object at 0x7f57e86e9a68 (pyMicropolis+micropolisEngine+micropolisnotebook+MicropolisNotebook at 0x1b49f40)>, <micropolisnotebook.MicropolisNotebook object at 0x7f57e86e9a68 (pyMicropolis+micropolisEngine+micropolisnotebook+MicropolisNotebook at 0x1b49f40)>, <micropolismessagespanel.MicropolisMessagesPanel object at 0x7f57e86f33a8 (pyMicropolis+micropolisEngine+micropolismessagespanel+MicropolisMessagesPanel at 0x2e294d0)>, 0)\n",
      "('PAGEREMOVED', <micropolisnotebook.MicropolisNotebook object at 0x7f57e86e9a68 (pyMicropolis+micropolisEngine+micropolisnotebook+MicropolisNotebook at 0x1b49f40)>, <micropolisnotebook.MicropolisNotebook object at 0x7f57e86e9a68 (pyMicropolis+micropolisEngine+micropolisnotebook+MicropolisNotebook at 0x1b49f40)>, <micropolisevaluationpanel.MicropolisEvaluationPanel object at 0x7f57e86f3318 (pyMicropolis+micropolisEngine+micropolisevaluationpanel+MicropolisEvaluationPanel at 0x2e29680)>, 0)\n",
      "('PAGEREMOVED', <micropolisnotebook.MicropolisNotebook object at 0x7f57e86e9a68 (pyMicropolis+micropolisEngine+micropolisnotebook+MicropolisNotebook at 0x1b49f40)>, <micropolisnotebook.MicropolisNotebook object at 0x7f57e86e9a68 (pyMicropolis+micropolisEngine+micropolisnotebook+MicropolisNotebook at 0x1b49f40)>, <micropolishistorypanel.MicropolisHistoryPanel object at 0x7f57e86f3480 (pyMicropolis+micropolisEngine+micropolishistorypanel+MicropolisHistoryPanel at 0x2e29830)>, 0)\n",
      "('PAGEREMOVED', <micropolisnotebook.MicropolisNotebook object at 0x7f57e86e9a68 (pyMicropolis+micropolisEngine+micropolisnotebook+MicropolisNotebook at 0x1b49f40)>, <micropolisnotebook.MicropolisNotebook object at 0x7f57e86e9a68 (pyMicropolis+micropolisEngine+micropolisnotebook+MicropolisNotebook at 0x1b49f40)>, <micropolisbudgetpanel.MicropolisBudgetPanel object at 0x7f57e86f38b8 (pyMicropolis+micropolisEngine+micropolisbudgetpanel+MicropolisBudgetPanel at 0x2e299e0)>, 0)\n",
      "('PAGEREMOVED', <micropolisnotebook.MicropolisNotebook object at 0x7f57e86e9a68 (pyMicropolis+micropolisEngine+micropolisnotebook+MicropolisNotebook at 0x1b49f40)>, <micropolisnotebook.MicropolisNotebook object at 0x7f57e86e9a68 (pyMicropolis+micropolisEngine+micropolisnotebook+MicropolisNotebook at 0x1b49f40)>, <micropolismappanel.MicropolisMapPanel object at 0x7f57e86f3e58 (pyMicropolis+micropolisEngine+micropolismappanel+MicropolisMapPanel at 0x2e29b90)>, 0)\n",
      "('PAGEREMOVED', <micropolisnotebook.MicropolisNotebook object at 0x7f57e86e9a68 (pyMicropolis+micropolisEngine+micropolisnotebook+MicropolisNotebook at 0x1b49f40)>, <micropolisnotebook.MicropolisNotebook object at 0x7f57e86e9a68 (pyMicropolis+micropolisEngine+micropolisnotebook+MicropolisNotebook at 0x1b49f40)>, <micropolisdisasterspanel.MicropolisDisastersPanel object at 0x7f57e86e4e10 (pyMicropolis+micropolisEngine+micropolisdisasterspanel+MicropolisDisastersPanel at 0x2e29d40)>, 0)\n",
      "('PAGEREMOVED', <micropolisnotebook.MicropolisNotebook object at 0x7f57e86e9a68 (pyMicropolis+micropolisEngine+micropolisnotebook+MicropolisNotebook at 0x1b49f40)>, <micropolisnotebook.MicropolisNotebook object at 0x7f57e86e9a68 (pyMicropolis+micropolisEngine+micropolisnotebook+MicropolisNotebook at 0x1b49f40)>, <micropoliscontrolpanel.MicropolisControlPanel object at 0x7f57e8056fc0 (pyMicropolis+micropolisEngine+micropoliscontrolpanel+MicropolisControlPanel at 0x2e29ef0)>, 0)\n"
     ]
    }
   ],
   "source": [
    "m.render()"
   ]
  }
 ],
 "metadata": {
  "kernelspec": {
   "display_name": "Python 3",
   "language": "python",
   "name": "python3"
  },
  "language_info": {
   "codemirror_mode": {
    "name": "ipython",
    "version": 3
   },
   "file_extension": ".py",
   "mimetype": "text/x-python",
   "name": "python",
   "nbconvert_exporter": "python",
   "pygments_lexer": "ipython3",
   "version": "3.6.7"
  }
 },
 "nbformat": 4,
 "nbformat_minor": 2
}
