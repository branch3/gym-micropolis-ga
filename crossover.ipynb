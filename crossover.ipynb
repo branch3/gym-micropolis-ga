{
  "cells": [
    {
      "cell_type": "code",
      "execution_count": 16,
      "outputs": [],
      "source": "import copy",
      "metadata": {
        "pycharm": {
          "metadata": false,
          "name": "#%%\n",
          "is_executing": false
        }
      }
    },
    {
      "cell_type": "code",
      "execution_count": 2,
      "metadata": {
        "pycharm": {
          "is_executing": false
        }
      },
      "outputs": [],
      "source": "# This is in TileMap.zoneSize :\nzoneSize \u003d {\u0027Residential\u0027: 3,\n                \u0027Commercial\u0027 : 3,\n                \u0027Industrial\u0027 : 3,\n                \u0027Seaport\u0027 : 4,\n                \u0027Stadium\u0027 : 4,\n                \u0027PoliceDept\u0027 : 3,\n                \u0027FireDept\u0027 : 3,\n                \u0027Airport\u0027 : 5,\n                \u0027NuclearPowerPlant\u0027 : 4,\n                \u0027CoalPowerPlant\u0027 : 4,\n                \u0027Road\u0027 : 1,\n                \u0027Rail\u0027 : 1,\n                \u0027Park\u0027 : 1,\n                \u0027Wire\u0027 : 1,\n                \u0027Rubble\u0027: 1,\n                \u0027Net\u0027: 1,\n                \u0027Water\u0027: 1,\n                \u0027Land\u0027: 1,\n                \u0027Forest\u0027: 1,\n                \u0027Church\u0027: 3,\n                \u0027Hospital\u0027: 3,\n                \u0027Fire\u0027: 1\n               }"
    },
    {
      "cell_type": "code",
      "execution_count": 5,
      "metadata": {
        "pycharm": {
          "is_executing": false
        }
      },
      "outputs": [],
      "source": "def overlaps(tool_a, tool_b):\n    \u0027\u0027\u0027\n    tool_a and b are like [9, 9, \u0027Industrial\u0027]\n    \u0027\u0027\u0027\n    size_a \u003d zoneSize[tool_a[-1]]\n    size_b \u003d zoneSize[tool_b[-1]]\n    \n    # Top left corners\n    ax0, ay0 \u003d tool_a[0:2]\n    if size_a \u003e 1 : \n        ax0+\u003d1\n        ay0+\u003d1\n    bx0, by0 \u003d tool_b[0:2]\n    if size_b \u003e 1 : \n        bx0+\u003d1\n        by0+\u003d1  \n    # Bottom right corners\n    ax1, ay1 \u003d ax0+size_a-1, ay0+size_a-1\n    bx1, by1 \u003d bx0+size_b-1, by0+size_b-1\n    \n    # intersection theorem\n    if (ay0 \u003e by1 or ay1 \u003c by0) :\n        return False\n    if (ax0 \u003e bx1 or ax1 \u003c bx0) :\n        return False\n    \n    return True"
    },
    {
      "cell_type": "code",
      "execution_count": 3,
      "metadata": {
        "pycharm": {
          "is_executing": false
        }
      },
      "outputs": [
        {
          "traceback": [
            "\u001b[0;31m---------------------------------------------------------------------------\u001b[0m",
            "\u001b[0;31mNameError\u001b[0m                                 Traceback (most recent call last)",
            "\u001b[0;32m\u003cipython-input-3-9d4f03f35e81\u003e\u001b[0m in \u001b[0;36m\u003cmodule\u003e\u001b[0;34m\u001b[0m\n\u001b[0;32m----\u003e 1\u001b[0;31m \u001b[0moverlaps\u001b[0m\u001b[0;34m(\u001b[0m\u001b[0;34m[\u001b[0m\u001b[0;36m9\u001b[0m\u001b[0;34m,\u001b[0m \u001b[0;36m9\u001b[0m\u001b[0;34m,\u001b[0m \u001b[0;34m\u0027Industrial\u0027\u001b[0m\u001b[0;34m]\u001b[0m\u001b[0;34m,\u001b[0m \u001b[0;34m[\u001b[0m\u001b[0;36m9\u001b[0m\u001b[0;34m,\u001b[0m \u001b[0;36m9\u001b[0m\u001b[0;34m,\u001b[0m \u001b[0;34m\u0027Industrial\u0027\u001b[0m\u001b[0;34m]\u001b[0m\u001b[0;34m)\u001b[0m\u001b[0;34m\u001b[0m\u001b[0;34m\u001b[0m\u001b[0m\n\u001b[0m",
            "\u001b[0;31mNameError\u001b[0m: name \u0027overlaps\u0027 is not defined"
          ],
          "ename": "NameError",
          "evalue": "name \u0027overlaps\u0027 is not defined",
          "output_type": "error"
        }
      ],
      "source": [
        "overlaps([9, 9, \u0027Industrial\u0027], [9, 9, \u0027Industrial\u0027])"
      ]
    },
    {
      "cell_type": "code",
      "execution_count": 353,
      "metadata": {
        "pycharm": {}
      },
      "outputs": [],
      "source": [
        "def crossover(parents, rotation_index\u003d0):\n",
        "    \u0027\u0027\u0027\n",
        "    parents is a list of the selected parents for reproduction\n",
        "    rotation_index selects the first parents in the list for reproduction\n",
        "    outputs a list of how to merge the parents\n",
        "    \u0027\u0027\u0027\n",
        "    nb_parents \u003d len(parents)\n",
        "    p2 \u003d [len(x)-1 for x in parents]\n",
        "    child \u003d []\n",
        "\n",
        "    # We want to scroll until parents are empty\n",
        "    while p2 !\u003d [-1]*nb_parents:\n",
        "        if p2[rotation_index] !\u003d -1 :\n",
        "            # Select the parents next tool\n",
        "            gene \u003d parents[rotation_index][p2[rotation_index]]\n",
        "            p2[rotation_index] -\u003d1\n",
        "            \n",
        "            touching \u003d sum([overlaps(gene, tool) for tool in child])\n",
        "\n",
        "            # if it can be added add it to children indexs\n",
        "            if not touching and gene:\n",
        "                child.insert(0,gene)\n",
        "        \n",
        "        # We\u0027ll start the next loop with the next parent\n",
        "        if not touching or p2[rotation_index]\u003d\u003d-1 :\n",
        "            rotation_index \u003d (rotation_index+1) %nb_parents \n",
        "    return child"
      ]
    },
    {
      "cell_type": "code",
      "execution_count": 17,
      "metadata": {
        "collapsed": true,
        "pycharm": {
          "is_executing": false
        }
      },
      "outputs": [],
      "source": "# def crossover(parents, rotation_index\u003d0):\n#     \u0027\u0027\u0027\n#     parents is a list of the selected parents for reproduction\n#     rotation_index selects the first parents in the list for reproduction\n#     outputs a list of how to merge the parents\n#     \u0027\u0027\u0027\n#     p \u003d copy.deepcopy(parents)\n#     nb_parents \u003d len(p)\n#     child \u003d []\n# \n#     # We want to scroll until parents are empty\n#     while p !\u003d [[]]*nb_parents:\n#         # If parent isn\u0027t empty\n#         if p[rotation_index] :\n#             # Select the parents next tool\n#             gene \u003d p[rotation_index].pop()\n#             \n#             touching \u003d sum([overlaps(gene, tool) for tool in child])\n# \n#             # if it can be added add it to children indexs\n#             if not touching and gene:\n#                 child.insert(0,gene)\n#         \n#         # We\u0027ll start the next loop with the next parent if is empty\n#         if not touching or not p[rotation_index] :\n#             rotation_index \u003d (rotation_index+1) %nb_parents \n# \n#     return child"
    },
    {
      "cell_type": "code",
      "execution_count": 13,
      "metadata": {
        "collapsed": true,
        "pycharm": {
          "is_executing": false
        }
      },
      "outputs": [],
      "source": [
        "b \u003d [[9, 7, \u0027Residential\u0027],\n",
        " [16, 6, \u0027Residential\u0027],\n",
        " [12, 19, \u0027NuclearPowerPlant\u0027],\n",
        " [18, 11, \u0027Road\u0027],\n",
        " [6, 6, \u0027Industrial\u0027],\n",
        " [18, 5, \u0027Residential\u0027],\n",
        " [9, 9, \u0027Commercial\u0027],\n",
        " [3, 9, \u0027NuclearPowerPlant\u0027],\n",
        " [18, 8, \u0027NuclearPowerPlant\u0027],\n",
        " [9, 9, \u0027Industrial\u0027]]\n",
        "c \u003d [[9, 7, \u0027Residential\u0027],\n",
        " [16, 6, \u0027Residential\u0027],\n",
        " [18, 5, \u0027Residential\u0027],\n",
        " [3, 9, \u0027NuclearPowerPlant\u0027],\n",
        " [18, 11, \u0027Road\u0027],\n",
        " [6, 6, \u0027Industrial\u0027],\n",
        " [18, 8, \u0027NuclearPowerPlant\u0027],\n",
        " [12, 19, \u0027NuclearPowerPlant\u0027],\n",
        " [9, 9, \u0027Commercial\u0027],\n",
        " [18, 5, \u0027Residential\u0027],\n",
        " [9, 9, \u0027Commercial\u0027],\n",
        " [16, 6, \u0027Residential\u0027],\n",
        " [18, 5, \u0027Residential\u0027],\n",
        " [9, 9, \u0027Industrial\u0027]]"
      ]
    },
    {
      "cell_type": "code",
      "execution_count": 18,
      "metadata": {
        "pycharm": {
          "is_executing": false
        }
      },
      "outputs": [
        {
          "data": {
            "text/plain": "[[18, 11, \u0027Road\u0027],\n [6, 6, \u0027Industrial\u0027],\n [3, 9, \u0027NuclearPowerPlant\u0027],\n [12, 19, \u0027NuclearPowerPlant\u0027],\n [18, 8, \u0027NuclearPowerPlant\u0027],\n [18, 5, \u0027Residential\u0027],\n [9, 9, \u0027Industrial\u0027]]"
          },
          "metadata": {},
          "output_type": "execute_result",
          "execution_count": 18
        }
      ],
      "source": [
        "crossover([b,c], 0)"
      ]
    },
    {
      "cell_type": "code",
      "execution_count": 19,
      "metadata": {
        "pycharm": {
          "is_executing": false
        }
      },
      "outputs": [
        {
          "data": {
            "text/plain": "[[18, 11, \u0027Road\u0027],\n [6, 6, \u0027Industrial\u0027],\n [3, 9, \u0027NuclearPowerPlant\u0027],\n [12, 19, \u0027NuclearPowerPlant\u0027],\n [18, 8, \u0027NuclearPowerPlant\u0027],\n [18, 5, \u0027Residential\u0027],\n [9, 9, \u0027Industrial\u0027]]"
          },
          "metadata": {},
          "output_type": "execute_result",
          "execution_count": 19
        }
      ],
      "source": [
        "crossover([b,c], 0)"
      ]
    }
  ],
  "metadata": {
    "kernelspec": {
      "name": "pycharm-5c1987d2",
      "language": "python",
      "display_name": "PyCharm (gym-micropolis-ga)"
    },
    "language_info": {
      "codemirror_mode": {
        "name": "ipython",
        "version": 3
      },
      "file_extension": ".py",
      "mimetype": "text/x-python",
      "name": "python",
      "nbconvert_exporter": "python",
      "pygments_lexer": "ipython3",
      "version": "3.6.1"
    },
    "stem_cell": {
      "cell_type": "raw",
      "source": "",
      "metadata": {
        "pycharm": {
          "metadata": false
        }
      }
    }
  },
  "nbformat": 4,
  "nbformat_minor": 2
}